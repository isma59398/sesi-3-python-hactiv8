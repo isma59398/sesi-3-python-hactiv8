{
 "cells": [
  {
   "cell_type": "code",
   "execution_count": 1,
   "id": "1e817fb2",
   "metadata": {},
   "outputs": [
    {
     "data": {
      "text/plain": [
       "3"
      ]
     },
     "execution_count": 1,
     "metadata": {},
     "output_type": "execute_result"
    }
   ],
   "source": [
    "1 * 3"
   ]
  },
  {
   "cell_type": "code",
   "execution_count": 2,
   "id": "196fc0b1",
   "metadata": {},
   "outputs": [
    {
     "name": "stdout",
     "output_type": "stream",
     "text": [
      "9\n"
     ]
    }
   ],
   "source": [
    "def kali(a):\n",
    "    print(a*3)\n",
    "a = kali (3)"
   ]
  },
  {
   "cell_type": "code",
   "execution_count": 4,
   "id": "f67c4704",
   "metadata": {},
   "outputs": [
    {
     "name": "stdout",
     "output_type": "stream",
     "text": [
      "None\n"
     ]
    }
   ],
   "source": [
    "print(a)"
   ]
  },
  {
   "cell_type": "code",
   "execution_count": 5,
   "id": "bd3cd846",
   "metadata": {},
   "outputs": [
    {
     "name": "stdout",
     "output_type": "stream",
     "text": [
      "6\n"
     ]
    }
   ],
   "source": [
    "def kali(a,b):\n",
    "    return a*b\n",
    "print(kali(2,3))\n"
   ]
  },
  {
   "cell_type": "code",
   "execution_count": 7,
   "id": "e378c3d5",
   "metadata": {},
   "outputs": [
    {
     "name": "stdout",
     "output_type": "stream",
     "text": [
      "360\n"
     ]
    }
   ],
   "source": [
    "x = kali(3,4)\n",
    "y = kali(5,6)\n",
    "z = kali(x,y)\n",
    "print(z)"
   ]
  },
  {
   "cell_type": "code",
   "execution_count": 8,
   "id": "f1e80b33",
   "metadata": {},
   "outputs": [],
   "source": [
    "def str_joiner(a,b):\n",
    "    return a + b"
   ]
  },
  {
   "cell_type": "code",
   "execution_count": 9,
   "id": "d56e9377",
   "metadata": {},
   "outputs": [
    {
     "data": {
      "text/plain": [
       "'ayamburung'"
      ]
     },
     "execution_count": 9,
     "metadata": {},
     "output_type": "execute_result"
    }
   ],
   "source": [
    "str_joiner('ayam', 'burung')"
   ]
  },
  {
   "cell_type": "code",
   "execution_count": 26,
   "id": "68084a03",
   "metadata": {},
   "outputs": [
    {
     "data": {
      "text/plain": [
       "' nakaM uaM ayaS'"
      ]
     },
     "execution_count": 26,
     "metadata": {},
     "output_type": "execute_result"
    }
   ],
   "source": [
    "def str_joiner(a,b,c):\n",
    "    a = a.capitalize()\n",
    "    b = b.capitalize()\n",
    "    c = c.capitalize()\n",
    "    return a + b + c\n",
    "str_joiner('saya ', 'mau ', 'makan ') [::-1]\n"
   ]
  },
  {
   "cell_type": "code",
   "execution_count": 28,
   "id": "0a8cb81e",
   "metadata": {},
   "outputs": [
    {
     "name": "stdout",
     "output_type": "stream",
     "text": [
      "20\n",
      "7\n"
     ]
    }
   ],
   "source": [
    "total= 20\n",
    "def function_a(a,b):\n",
    "    total = a+b\n",
    "    return total\n",
    "print(total)\n",
    "print(function_a(2,5))"
   ]
  },
  {
   "cell_type": "code",
   "execution_count": 44,
   "id": "5fb65173",
   "metadata": {},
   "outputs": [],
   "source": [
    "mylist = [31,21,2,56,77,23,12,11,19,20,31,35,17]\n",
    "\n",
    "def func(a):\n",
    "    nGenap = 0\n",
    "    nGanjil = 0\n",
    "    sumGenap = 0\n",
    "    sumGanjil = 0\n",
    "    for i in a:\n",
    "        if i % 2 ==0:\n",
    "            nGenap += 1\n",
    "            sumGenap += 1\n",
    "        else:\n",
    "            nGanjil += 1\n",
    "            sumGanjil += i\n",
    "    print ('n angka ganjil adalah = ' + str(nganjil))\n",
    "    print ('n angka genap adalah = ' + str(nGenap))\n",
    "    print ('n sum angka ganjil adalah = ' + str(sumGanjil))\n",
    "    print ('n sum angka ganjil adalah = ' + str(sumGenap))"
   ]
  },
  {
   "cell_type": "code",
   "execution_count": 48,
   "id": "eaeb6d31",
   "metadata": {},
   "outputs": [
    {
     "name": "stdout",
     "output_type": "stream",
     "text": [
      "Name :  Isma\n",
      "Age :  21\n"
     ]
    }
   ],
   "source": [
    "def printinfo(name,age=21):\n",
    "    print('Name : ',name)\n",
    "    print('Age : ',age)\n",
    "printinfo('Isma')"
   ]
  },
  {
   "cell_type": "code",
   "execution_count": 49,
   "id": "83cdc4cb",
   "metadata": {},
   "outputs": [],
   "source": [
    "def printinfo(x, *vartuple):\n",
    "    print('output is :')\n",
    "    print(x)\n",
    "    print(vartuple)"
   ]
  },
  {
   "cell_type": "code",
   "execution_count": 51,
   "id": "a313e1dd",
   "metadata": {},
   "outputs": [
    {
     "name": "stdout",
     "output_type": "stream",
     "text": [
      "output is :\n",
      "2\n",
      "(5, 6, 7, 'isma', 0)\n"
     ]
    }
   ],
   "source": [
    "printinfo(2,5,6,7,'isma',0)"
   ]
  },
  {
   "cell_type": "markdown",
   "id": "a402149d",
   "metadata": {},
   "source": [
    "Lambda"
   ]
  },
  {
   "cell_type": "code",
   "execution_count": 53,
   "id": "e38c0c63",
   "metadata": {},
   "outputs": [
    {
     "name": "stdout",
     "output_type": "stream",
     "text": [
      "11\n"
     ]
    }
   ],
   "source": [
    "def sum(x,y):\n",
    "    return x + y\n",
    "print(sum(3,8))"
   ]
  },
  {
   "cell_type": "code",
   "execution_count": 56,
   "id": "550b0c78",
   "metadata": {},
   "outputs": [
    {
     "name": "stdout",
     "output_type": "stream",
     "text": [
      "30\n"
     ]
    }
   ],
   "source": [
    "perkalian = lambda x,y:x*y\n",
    "print(perkalian(5,6))"
   ]
  },
  {
   "cell_type": "markdown",
   "id": "e11ad2b2",
   "metadata": {},
   "source": [
    "modules"
   ]
  },
  {
   "cell_type": "code",
   "execution_count": 58,
   "id": "6ed3cec2",
   "metadata": {},
   "outputs": [
    {
     "data": {
      "text/plain": [
       "3.0"
      ]
     },
     "execution_count": 58,
     "metadata": {},
     "output_type": "execute_result"
    }
   ],
   "source": [
    "import numpy as np\n",
    "np.sqrt(9)"
   ]
  },
  {
   "cell_type": "code",
   "execution_count": 59,
   "id": "8b41fb01",
   "metadata": {},
   "outputs": [
    {
     "data": {
      "text/plain": [
       "['In',\n",
       " 'Out',\n",
       " '_',\n",
       " '_1',\n",
       " '_14',\n",
       " '_15',\n",
       " '_17',\n",
       " '_25',\n",
       " '_26',\n",
       " '_30',\n",
       " '_57',\n",
       " '_58',\n",
       " '_9',\n",
       " '__',\n",
       " '___',\n",
       " '__builtin__',\n",
       " '__builtins__',\n",
       " '__doc__',\n",
       " '__loader__',\n",
       " '__name__',\n",
       " '__package__',\n",
       " '__spec__',\n",
       " '_dh',\n",
       " '_i',\n",
       " '_i1',\n",
       " '_i10',\n",
       " '_i11',\n",
       " '_i12',\n",
       " '_i13',\n",
       " '_i14',\n",
       " '_i15',\n",
       " '_i16',\n",
       " '_i17',\n",
       " '_i18',\n",
       " '_i19',\n",
       " '_i2',\n",
       " '_i20',\n",
       " '_i21',\n",
       " '_i22',\n",
       " '_i23',\n",
       " '_i24',\n",
       " '_i25',\n",
       " '_i26',\n",
       " '_i27',\n",
       " '_i28',\n",
       " '_i29',\n",
       " '_i3',\n",
       " '_i30',\n",
       " '_i31',\n",
       " '_i32',\n",
       " '_i33',\n",
       " '_i34',\n",
       " '_i35',\n",
       " '_i36',\n",
       " '_i37',\n",
       " '_i38',\n",
       " '_i39',\n",
       " '_i4',\n",
       " '_i40',\n",
       " '_i41',\n",
       " '_i42',\n",
       " '_i43',\n",
       " '_i44',\n",
       " '_i45',\n",
       " '_i46',\n",
       " '_i47',\n",
       " '_i48',\n",
       " '_i49',\n",
       " '_i5',\n",
       " '_i50',\n",
       " '_i51',\n",
       " '_i52',\n",
       " '_i53',\n",
       " '_i54',\n",
       " '_i55',\n",
       " '_i56',\n",
       " '_i57',\n",
       " '_i58',\n",
       " '_i59',\n",
       " '_i6',\n",
       " '_i7',\n",
       " '_i8',\n",
       " '_i9',\n",
       " '_ih',\n",
       " '_ii',\n",
       " '_iii',\n",
       " '_oh',\n",
       " 'a',\n",
       " 'exit',\n",
       " 'func',\n",
       " 'function_a',\n",
       " 'get_ipython',\n",
       " 'kali',\n",
       " 'mylist',\n",
       " 'np',\n",
       " 'perkalian',\n",
       " 'printinfo',\n",
       " 'quit',\n",
       " 'str_joiner',\n",
       " 'sum',\n",
       " 'total',\n",
       " 'x',\n",
       " 'y',\n",
       " 'z']"
      ]
     },
     "execution_count": 59,
     "metadata": {},
     "output_type": "execute_result"
    }
   ],
   "source": [
    "dir()"
   ]
  },
  {
   "cell_type": "code",
   "execution_count": 61,
   "id": "37380671",
   "metadata": {},
   "outputs": [
    {
     "data": {
      "text/plain": [
       "'C:\\\\ProgramData\\\\Anaconda3\\\\lib\\\\site-packages\\\\numpy\\\\__init__.py'"
      ]
     },
     "execution_count": 61,
     "metadata": {},
     "output_type": "execute_result"
    }
   ],
   "source": [
    "np.__file__"
   ]
  },
  {
   "cell_type": "code",
   "execution_count": 62,
   "id": "99af3c16",
   "metadata": {},
   "outputs": [],
   "source": [
    "import matplotlib.pyplot as plt"
   ]
  },
  {
   "cell_type": "markdown",
   "id": "89e8f332",
   "metadata": {},
   "source": [
    "package"
   ]
  },
  {
   "cell_type": "code",
   "execution_count": null,
   "id": "d3979362",
   "metadata": {},
   "outputs": [],
   "source": []
  }
 ],
 "metadata": {
  "kernelspec": {
   "display_name": "Python 3 (ipykernel)",
   "language": "python",
   "name": "python3"
  },
  "language_info": {
   "codemirror_mode": {
    "name": "ipython",
    "version": 3
   },
   "file_extension": ".py",
   "mimetype": "text/x-python",
   "name": "python",
   "nbconvert_exporter": "python",
   "pygments_lexer": "ipython3",
   "version": "3.9.13"
  }
 },
 "nbformat": 4,
 "nbformat_minor": 5
}
